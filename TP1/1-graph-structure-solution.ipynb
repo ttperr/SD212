{
 "cells": [
  {
   "attachments": {},
   "cell_type": "markdown",
   "metadata": {},
   "source": [
    "# SD212: Graph mining\n",
    "## Solution to Lab 1: Graph structure\n",
    "\n",
    "In this lab, you will check three structural properties of real graphs:\n",
    "* the [power-law](https://en.wikipedia.org/wiki/Power_law#Power-law_probability_distributions) of degrees,\n",
    "* the [small-world](https://en.wikipedia.org/wiki/Small-world_network) property,\n",
    "* the tendency to [cluster](https://en.wikipedia.org/wiki/Clustering_coefficient)."
   ]
  },
  {
   "attachments": {},
   "cell_type": "markdown",
   "metadata": {},
   "source": [
    "## Import"
   ]
  },
  {
   "cell_type": "code",
   "execution_count": 1,
   "metadata": {},
   "outputs": [],
   "source": [
    "import numpy as np\n",
    "from scipy import sparse\n",
    "import matplotlib.pyplot as plt"
   ]
  },
  {
   "cell_type": "code",
   "execution_count": 2,
   "metadata": {},
   "outputs": [],
   "source": [
    "import sknetwork as skn"
   ]
  },
  {
   "cell_type": "code",
   "execution_count": 3,
   "metadata": {},
   "outputs": [],
   "source": [
    "# check version\n",
    "if skn.__version__ != '0.31.0':\n",
    "    print('Please upgrade scikit-network.')"
   ]
  },
  {
   "cell_type": "code",
   "execution_count": 4,
   "metadata": {},
   "outputs": [],
   "source": [
    "from sknetwork.data import load_netset, erdos_renyi\n",
    "from sknetwork.path import get_distances, get_shortest_path\n",
    "from sknetwork.utils import get_neighbors, bipartite2undirected\n",
    "from sknetwork.topology import get_clustering_coefficient"
   ]
  },
  {
   "attachments": {},
   "cell_type": "markdown",
   "metadata": {},
   "source": [
    "## Data"
   ]
  },
  {
   "attachments": {},
   "cell_type": "markdown",
   "metadata": {},
   "source": [
    "We will work on the following graphs (see the [NetSet](https://netset.telecom-paris.fr) collection for details):\n",
    "* Openflights (graph)\n",
    "* WikiVitals (directed graph)\n",
    "* Cinema (bipartite graph)"
   ]
  },
  {
   "cell_type": "code",
   "execution_count": 5,
   "metadata": {},
   "outputs": [
    {
     "name": "stdout",
     "output_type": "stream",
     "text": [
      "Parsing files...\n",
      "Done.\n"
     ]
    }
   ],
   "source": [
    "openflights = load_netset('openflights')"
   ]
  },
  {
   "cell_type": "code",
   "execution_count": 6,
   "metadata": {},
   "outputs": [
    {
     "data": {
      "text/plain": [
       "sknetwork.data.base.Bunch"
      ]
     },
     "execution_count": 6,
     "metadata": {},
     "output_type": "execute_result"
    }
   ],
   "source": [
    "type(openflights)"
   ]
  },
  {
   "cell_type": "code",
   "execution_count": 7,
   "metadata": {},
   "outputs": [],
   "source": [
    "dataset = openflights"
   ]
  },
  {
   "cell_type": "code",
   "execution_count": 8,
   "metadata": {},
   "outputs": [
    {
     "data": {
      "text/plain": [
       "{'name': 'openflights',\n",
       " 'description': 'Airports with daily number of flights between them.',\n",
       " 'source': 'https://openflights.org'}"
      ]
     },
     "execution_count": 8,
     "metadata": {},
     "output_type": "execute_result"
    }
   ],
   "source": [
    "dataset.meta"
   ]
  },
  {
   "cell_type": "code",
   "execution_count": 9,
   "metadata": {},
   "outputs": [
    {
     "name": "stdout",
     "output_type": "stream",
     "text": [
      "Parsing files...\n",
      "Done.\n"
     ]
    }
   ],
   "source": [
    "wikivitals = load_netset('wikivitals')"
   ]
  },
  {
   "cell_type": "code",
   "execution_count": 10,
   "metadata": {},
   "outputs": [
    {
     "name": "stdout",
     "output_type": "stream",
     "text": [
      "Parsing files...\n",
      "Done.\n"
     ]
    }
   ],
   "source": [
    "cinema = load_netset('cinema')"
   ]
  },
  {
   "attachments": {},
   "cell_type": "markdown",
   "metadata": {},
   "source": [
    "## 1. Power law"
   ]
  },
  {
   "attachments": {},
   "cell_type": "markdown",
   "metadata": {},
   "source": [
    "We first focus on the power law degree distribution.\n",
    "\n",
    "We consider the empirical distributions of:\n",
    "* degrees in the Openflights graph,\n",
    "* in-degrees and out-degrees in the WikiVitals graph."
   ]
  },
  {
   "attachments": {},
   "cell_type": "markdown",
   "metadata": {},
   "source": [
    "## To do"
   ]
  },
  {
   "attachments": {},
   "cell_type": "markdown",
   "metadata": {},
   "source": [
    "For each of these distributions:\n",
    "* Plot the [tail distribution](https://en.wikipedia.org/wiki/Cumulative_distribution_function#Complementary_cumulative_distribution_function_(tail_distribution)) in log-log scale.\n",
    "* Conclude: do you consider that these are power-law graphs?"
   ]
  },
  {
   "cell_type": "code",
   "execution_count": 11,
   "metadata": {},
   "outputs": [],
   "source": [
    "dataset = wikivitals"
   ]
  },
  {
   "cell_type": "code",
   "execution_count": 12,
   "metadata": {},
   "outputs": [],
   "source": [
    "adjacency = dataset.adjacency"
   ]
  },
  {
   "cell_type": "code",
   "execution_count": 13,
   "metadata": {},
   "outputs": [
    {
     "data": {
      "text/plain": [
       "<10011x10011 sparse matrix of type '<class 'numpy.bool_'>'\n",
       "\twith 824999 stored elements in Compressed Sparse Row format>"
      ]
     },
     "execution_count": 13,
     "metadata": {},
     "output_type": "execute_result"
    }
   ],
   "source": [
    "adjacency"
   ]
  },
  {
   "cell_type": "code",
   "execution_count": 14,
   "metadata": {},
   "outputs": [],
   "source": [
    "n = adjacency.shape[0]"
   ]
  },
  {
   "cell_type": "code",
   "execution_count": 15,
   "metadata": {},
   "outputs": [],
   "source": [
    "out_degrees = adjacency.dot(np.ones(n))"
   ]
  },
  {
   "cell_type": "code",
   "execution_count": 16,
   "metadata": {},
   "outputs": [],
   "source": [
    "in_degrees = adjacency.T.dot(np.ones(n))"
   ]
  },
  {
   "cell_type": "code",
   "execution_count": 17,
   "metadata": {},
   "outputs": [],
   "source": [
    "def plot_loglog(degrees):\n",
    "    \"\"\"Plot the degree distribution in log-log scale and compare with that of a random graph.\n",
    "    \n",
    "    Parameters\n",
    "    ----------\n",
    "    degrees : array\n",
    "        vector of degrees of the graph.\n",
    "    \"\"\"\n",
    "    n = len(degrees)\n",
    "    # comparison with a random graph\n",
    "    adjacency_random = erdos_renyi(n, np.sum(degrees) / n / (n-1))\n",
    "    degrees_random = adjacency_random.dot(np.ones(n))\n",
    "    plt.loglog(np.sort(degrees), 1 - np.arange(n) / n, lw = 3, label='Real graph')\n",
    "    plt.loglog(np.sort(degrees_random), 1 - np.arange(n) / n, lw = 3, label = 'Random graph')\n",
    "    plt.xlabel('Degree')\n",
    "    plt.ylabel('Probability')\n",
    "    plt.legend()\n",
    "    plt.show()"
   ]
  },
  {
   "cell_type": "code",
   "execution_count": 18,
   "metadata": {},
   "outputs": [
    {
     "data": {
      "image/png": "[encoded data removed]",
      "text/plain": [
       "<Figure size 640x480 with 1 Axes>"
      ]
     },
     "metadata": {},
     "output_type": "display_data"
    }
   ],
   "source": [
    "plot_loglog(out_degrees)"
   ]
  },
  {
   "cell_type": "code",
   "execution_count": 19,
   "metadata": {},
   "outputs": [
    {
     "data": {
      "image/png": "[encoded data removed]",
      "text/plain": [
       "<Figure size 640x480 with 1 Axes>"
      ]
     },
     "metadata": {},
     "output_type": "display_data"
    }
   ],
   "source": [
    "plot_loglog(in_degrees)"
   ]
  },
  {
   "attachments": {},
   "cell_type": "markdown",
   "metadata": {},
   "source": [
    "## 2. Small-world"
   ]
  },
  {
   "attachments": {},
   "cell_type": "markdown",
   "metadata": {},
   "source": [
    "You will now make a few experiments highlighting the small-world property."
   ]
  },
  {
   "attachments": {},
   "cell_type": "markdown",
   "metadata": {},
   "source": [
    "## To do\n",
    "\n",
    "* Give a shortest path of maximum length starting from **Paris Charles de Gaulle** airport in Openflights.<br> \n",
    "List the corresponding airports.\n",
    "* Give a shortest path from [Plato](https://en.wikipedia.org/wiki/Plato) to [Platini](https://en.wikipedia.org/wiki/Michel_Platini) in WikiVitals.<br>\n",
    "List the corresponding articles."
   ]
  },
  {
   "cell_type": "code",
   "execution_count": 20,
   "metadata": {},
   "outputs": [],
   "source": [
    "dataset = openflights"
   ]
  },
  {
   "cell_type": "code",
   "execution_count": 21,
   "metadata": {},
   "outputs": [],
   "source": [
    "adjacency = dataset.adjacency > 0"
   ]
  },
  {
   "cell_type": "code",
   "execution_count": 22,
   "metadata": {},
   "outputs": [],
   "source": [
    "names = dataset.names"
   ]
  },
  {
   "cell_type": "code",
   "execution_count": 23,
   "metadata": {},
   "outputs": [
    {
     "data": {
      "text/plain": [
       "{622: 'Charles de Gaulle International Airport'}"
      ]
     },
     "execution_count": 23,
     "metadata": {},
     "output_type": "execute_result"
    }
   ],
   "source": [
    "{i: name for i, name in enumerate(names) if 'de Gaulle' in name}"
   ]
  },
  {
   "cell_type": "code",
   "execution_count": 24,
   "metadata": {},
   "outputs": [],
   "source": [
    "source = 622"
   ]
  },
  {
   "cell_type": "code",
   "execution_count": 25,
   "metadata": {},
   "outputs": [],
   "source": [
    "distances = get_distances(adjacency, source)"
   ]
  },
  {
   "cell_type": "code",
   "execution_count": 26,
   "metadata": {},
   "outputs": [
    {
     "data": {
      "text/plain": [
       "7"
      ]
     },
     "execution_count": 26,
     "metadata": {},
     "output_type": "execute_result"
    }
   ],
   "source": [
    "max(distances)"
   ]
  },
  {
   "cell_type": "code",
   "execution_count": 27,
   "metadata": {},
   "outputs": [],
   "source": [
    "destination = np.argmax(distances)"
   ]
  },
  {
   "cell_type": "code",
   "execution_count": 28,
   "metadata": {},
   "outputs": [],
   "source": [
    "shortest_path_tree = get_shortest_path(adjacency, source)"
   ]
  },
  {
   "cell_type": "code",
   "execution_count": 29,
   "metadata": {},
   "outputs": [],
   "source": [
    "destination = np.argmax(distances)"
   ]
  },
  {
   "cell_type": "code",
   "execution_count": 30,
   "metadata": {},
   "outputs": [
    {
     "data": {
      "text/plain": [
       "'Peawanuck Airport'"
      ]
     },
     "execution_count": 30,
     "metadata": {},
     "output_type": "execute_result"
    }
   ],
   "source": [
    "names[destination]"
   ]
  },
  {
   "cell_type": "code",
   "execution_count": 31,
   "metadata": {},
   "outputs": [],
   "source": [
    "node = destination\n",
    "path = [destination]\n",
    "while node != source:\n",
    "    node = get_neighbors(shortest_path_tree, node, transpose=True)[0]\n",
    "    path = [node] + path"
   ]
  },
  {
   "cell_type": "code",
   "execution_count": 32,
   "metadata": {},
   "outputs": [
    {
     "data": {
      "text/plain": [
       "8"
      ]
     },
     "execution_count": 32,
     "metadata": {},
     "output_type": "execute_result"
    }
   ],
   "source": [
    "len(path)"
   ]
  },
  {
   "cell_type": "code",
   "execution_count": 33,
   "metadata": {},
   "outputs": [
    {
     "name": "stdout",
     "output_type": "stream",
     "text": [
      "['Charles de Gaulle International Airport'\n",
      " 'Lester B. Pearson International Airport' 'Timmins/Victor M. Power'\n",
      " 'Moosonee Airport' 'Fort Albany Airport' 'Kashechewan Airport'\n",
      " 'Attawapiskat Airport' 'Peawanuck Airport']\n"
     ]
    }
   ],
   "source": [
    "print(names[path])"
   ]
  },
  {
   "cell_type": "code",
   "execution_count": 34,
   "metadata": {},
   "outputs": [],
   "source": [
    "dataset = wikivitals"
   ]
  },
  {
   "cell_type": "code",
   "execution_count": 35,
   "metadata": {},
   "outputs": [],
   "source": [
    "adjacency = dataset.adjacency\n",
    "names = dataset.names"
   ]
  },
  {
   "cell_type": "code",
   "execution_count": 36,
   "metadata": {},
   "outputs": [],
   "source": [
    "source = np.flatnonzero(names == 'Plato')[0]\n",
    "destination = np.flatnonzero(names == 'Michel Platini')[0]"
   ]
  },
  {
   "cell_type": "code",
   "execution_count": 37,
   "metadata": {},
   "outputs": [],
   "source": [
    "shortest_path_tree = get_shortest_path(adjacency, source)"
   ]
  },
  {
   "cell_type": "code",
   "execution_count": 38,
   "metadata": {},
   "outputs": [],
   "source": [
    "node = destination\n",
    "path = [destination]\n",
    "while node != source:\n",
    "    node = get_neighbors(shortest_path_tree, node, transpose=True)[0]\n",
    "    path = [node] + path"
   ]
  },
  {
   "cell_type": "code",
   "execution_count": 39,
   "metadata": {},
   "outputs": [
    {
     "name": "stdout",
     "output_type": "stream",
     "text": [
      "['Plato' 'Naples' 'Diego Maradona' 'Michel Platini']\n"
     ]
    }
   ],
   "source": [
    "print(names[path])"
   ]
  },
  {
   "attachments": {},
   "cell_type": "markdown",
   "metadata": {},
   "source": [
    "## To do\n",
    "\n",
    "* Which fraction of the airports can be reached from **Paris Charles de Gaulle** in 1, 2, 3 flights?\n",
    "* Which fraction of the articles can be reached from **Paris** in 1, 2, 3 clicks on Wikipedia Vitals?"
   ]
  },
  {
   "cell_type": "code",
   "execution_count": 40,
   "metadata": {},
   "outputs": [],
   "source": [
    "dataset = openflights\n",
    "adjacency = dataset.adjacency\n",
    "names = dataset.names"
   ]
  },
  {
   "cell_type": "code",
   "execution_count": 41,
   "metadata": {},
   "outputs": [
    {
     "data": {
      "text/plain": [
       "'Charles de Gaulle International Airport'"
      ]
     },
     "execution_count": 41,
     "metadata": {},
     "output_type": "execute_result"
    }
   ],
   "source": [
    "source = 622\n",
    "names[source]"
   ]
  },
  {
   "cell_type": "code",
   "execution_count": 42,
   "metadata": {},
   "outputs": [],
   "source": [
    "distances = get_distances(adjacency, source)"
   ]
  },
  {
   "cell_type": "code",
   "execution_count": 43,
   "metadata": {},
   "outputs": [
    {
     "data": {
      "text/plain": [
       "0.07555699063609946"
      ]
     },
     "execution_count": 43,
     "metadata": {},
     "output_type": "execute_result"
    }
   ],
   "source": [
    "np.mean(distances <= 1)"
   ]
  },
  {
   "cell_type": "code",
   "execution_count": 44,
   "metadata": {},
   "outputs": [
    {
     "data": {
      "text/plain": [
       "0.6189861155957378"
      ]
     },
     "execution_count": 44,
     "metadata": {},
     "output_type": "execute_result"
    }
   ],
   "source": [
    "np.mean(distances <= 2)"
   ]
  },
  {
   "cell_type": "code",
   "execution_count": 45,
   "metadata": {},
   "outputs": [
    {
     "data": {
      "text/plain": [
       "0.9089441394898289"
      ]
     },
     "execution_count": 45,
     "metadata": {},
     "output_type": "execute_result"
    }
   ],
   "source": [
    "np.mean(distances <= 3)"
   ]
  },
  {
   "cell_type": "code",
   "execution_count": 46,
   "metadata": {},
   "outputs": [],
   "source": [
    "dataset = wikivitals\n",
    "adjacency = dataset.adjacency\n",
    "names = dataset.names"
   ]
  },
  {
   "cell_type": "code",
   "execution_count": 47,
   "metadata": {},
   "outputs": [],
   "source": [
    "source = np.flatnonzero(names=='Paris')[0]"
   ]
  },
  {
   "cell_type": "code",
   "execution_count": 48,
   "metadata": {},
   "outputs": [
    {
     "data": {
      "text/plain": [
       "'Paris'"
      ]
     },
     "execution_count": 48,
     "metadata": {},
     "output_type": "execute_result"
    }
   ],
   "source": [
    "names[source]"
   ]
  },
  {
   "cell_type": "code",
   "execution_count": 49,
   "metadata": {},
   "outputs": [],
   "source": [
    "distances = get_distances(adjacency, source)"
   ]
  },
  {
   "cell_type": "code",
   "execution_count": 50,
   "metadata": {},
   "outputs": [
    {
     "data": {
      "text/plain": [
       "0.0425531914893617"
      ]
     },
     "execution_count": 50,
     "metadata": {},
     "output_type": "execute_result"
    }
   ],
   "source": [
    "np.mean(distances <= 1)"
   ]
  },
  {
   "cell_type": "code",
   "execution_count": 51,
   "metadata": {},
   "outputs": [
    {
     "data": {
      "text/plain": [
       "0.6771551293577065"
      ]
     },
     "execution_count": 51,
     "metadata": {},
     "output_type": "execute_result"
    }
   ],
   "source": [
    "np.mean(distances <= 2)"
   ]
  },
  {
   "cell_type": "code",
   "execution_count": 52,
   "metadata": {},
   "outputs": [
    {
     "data": {
      "text/plain": [
       "0.9963040655279193"
      ]
     },
     "execution_count": 52,
     "metadata": {},
     "output_type": "execute_result"
    }
   ],
   "source": [
    "np.mean(distances <= 3)"
   ]
  },
  {
   "attachments": {},
   "cell_type": "markdown",
   "metadata": {},
   "source": [
    "## To do\n",
    "\n",
    "* Compute the [Bacon number](https://fr.wikipedia.org/wiki/Six_Degrees_of_Kevin_Bacon) of all actors (**without** building the co-starring actor graph).\n",
    "* Plot the corresponding histogram."
   ]
  },
  {
   "cell_type": "code",
   "execution_count": 53,
   "metadata": {},
   "outputs": [],
   "source": [
    "dataset = cinema"
   ]
  },
  {
   "cell_type": "code",
   "execution_count": 54,
   "metadata": {},
   "outputs": [
    {
     "data": {
      "text/plain": [
       "{'name': 'cinema',\n",
       " 'source': 'https://yago-knowledge.org',\n",
       " 'description': 'Graph between movies and actors.'}"
      ]
     },
     "execution_count": 54,
     "metadata": {},
     "output_type": "execute_result"
    }
   ],
   "source": [
    "dataset.meta"
   ]
  },
  {
   "cell_type": "code",
   "execution_count": 55,
   "metadata": {},
   "outputs": [],
   "source": [
    "biadjacency = dataset.biadjacency"
   ]
  },
  {
   "cell_type": "code",
   "execution_count": 56,
   "metadata": {},
   "outputs": [
    {
     "data": {
      "text/plain": [
       "<88440x44586 sparse matrix of type '<class 'numpy.bool_'>'\n",
       "\twith 304006 stored elements in Compressed Sparse Row format>"
      ]
     },
     "execution_count": 56,
     "metadata": {},
     "output_type": "execute_result"
    }
   ],
   "source": [
    "biadjacency"
   ]
  },
  {
   "cell_type": "code",
   "execution_count": 57,
   "metadata": {},
   "outputs": [],
   "source": [
    "movies = dataset.names_row\n",
    "actors = dataset.names_col"
   ]
  },
  {
   "cell_type": "code",
   "execution_count": 58,
   "metadata": {},
   "outputs": [
    {
     "data": {
      "text/plain": [
       "88440"
      ]
     },
     "execution_count": 58,
     "metadata": {},
     "output_type": "execute_result"
    }
   ],
   "source": [
    "len(movies)"
   ]
  },
  {
   "cell_type": "code",
   "execution_count": 59,
   "metadata": {},
   "outputs": [
    {
     "data": {
      "text/plain": [
       "44586"
      ]
     },
     "execution_count": 59,
     "metadata": {},
     "output_type": "execute_result"
    }
   ],
   "source": [
    "len(actors)"
   ]
  },
  {
   "cell_type": "code",
   "execution_count": 60,
   "metadata": {},
   "outputs": [],
   "source": [
    "source = np.flatnonzero(actors == 'Kevin Bacon')[0]"
   ]
  },
  {
   "cell_type": "code",
   "execution_count": 61,
   "metadata": {},
   "outputs": [],
   "source": [
    "# actors are on columns\n",
    "_, distances = get_distances(biadjacency, source_col=source)"
   ]
  },
  {
   "cell_type": "code",
   "execution_count": 62,
   "metadata": {},
   "outputs": [
    {
     "data": {
      "text/plain": [
       "False"
      ]
     },
     "execution_count": 62,
     "metadata": {},
     "output_type": "execute_result"
    }
   ],
   "source": [
    "# distances to actors are even in the bipartite graph\n",
    "any(distances % 2)"
   ]
  },
  {
   "cell_type": "code",
   "execution_count": 63,
   "metadata": {},
   "outputs": [
    {
     "data": {
      "text/plain": [
       "array(['Anthony LaPaglia', 'Sissy Spacek', 'Meryl Streep', 'Fred Ward',\n",
       "       'Aisha Tyler', 'Michael Gross', 'Stephen Blackehart',\n",
       "       'Jennifer Morrison', 'John Goodman', 'John Hurt',\n",
       "       'Evan Rachel Wood', 'Wilford Brimley', 'Brad Renfro', 'Lucy Fry',\n",
       "       'Brad Pitt', 'Benedict Cumberbatch', 'Mickey Rourke',\n",
       "       'Sam Rockwell', 'Pruitt Taylor Vince', 'Mos Def',\n",
       "       'Theresa Russell', 'Robert De Niro', 'Kiefer Sutherland',\n",
       "       'Oliver Stone', 'Tommy Lee Jones', 'William Baldwin',\n",
       "       'Courtney Love', 'Jay Mohr', 'John Lithgow', 'Oliver Platt',\n",
       "       'Laurence Fishburne', 'Sean Penn', 'Elizabeth Perkins',\n",
       "       'Charlize Theron', 'Christian Slater', 'Kevin Costner',\n",
       "       'Kevin Pollak', 'Aidan Quinn', 'Embeth Davidtz', 'J. K. Simmons',\n",
       "       'Olympia Dukakis', 'David Alan Grier', 'Sean Astin',\n",
       "       'William Devane', 'Neve Campbell', 'Andy García', 'Frank Langella',\n",
       "       'Jeff Bridges', 'Michael Shannon', 'John C. Reilly',\n",
       "       \"Frances O'Connor\", 'Ed Harris', 'Dakota Johnson',\n",
       "       'Charles Durning', 'Maximilian Schell', 'Bill Paxton',\n",
       "       'Brendan Fraser', 'Tess Harper', 'Whoopi Goldberg', 'Colin Firth',\n",
       "       'Bob Hoskins', 'Gary Oldman', 'Daniel Stern', 'Robert Duvall',\n",
       "       'Kathleen Quinlan', 'William H. Macy', 'Chloe Webb',\n",
       "       'David Strathairn', 'Laurie Metcalf', 'Forest Whitaker',\n",
       "       'Robert Wagner', 'Sharon Stone', 'Jack Nicholson', 'J. T. Walsh',\n",
       "       'Demi Moore', 'Tom Cruise', 'James Marshall', 'Jamie Lee Curtis',\n",
       "       'Clint Eastwood', 'Holly Hunter', 'Bill Murray', 'Jim Cummings',\n",
       "       'Dianne Wiest', 'Toby Jones', 'Matt Dillon', 'Tom Hanks',\n",
       "       'Diane Lane', 'Julianne Moore', 'Gary Sinise', 'Calista Flockhart',\n",
       "       'Tom Arnold', 'Johnny Depp', 'Steve Guttenberg', 'Jay O. Sanders',\n",
       "       'Paul Dooley', 'Tim Robbins', 'Mary-Louise Parker', 'Rebecca Hall',\n",
       "       'Rory Cochrane', 'Elizabeth McGovern', 'Bridget Fonda',\n",
       "       'Stuart Townsend', 'John Malkovich', 'Jennifer Jason Leigh',\n",
       "       'Kelly Preston', 'Dustin Hoffman', 'Sarah Michelle Gellar',\n",
       "       'Benjamin Bratt', 'Joe Mantegna', 'Laura Linney', 'Marilu Henner',\n",
       "       'Joel Edgerton', 'Linda Fiorentino', 'Joe Don Baker',\n",
       "       'Matthew Broderick', 'Rachel Blanchard', 'Ryan Reynolds',\n",
       "       'Elisabeth Shue', 'Jason Patric', 'Marcia Gay Harden', 'Tim Daly',\n",
       "       'Bruce Payne', 'Frankie Muniz', 'Djimon Hounsou', 'Michael Sheen',\n",
       "       'Robert Hays', 'Luke Wilson', 'Marisa Tomei', 'Greg Grunberg',\n",
       "       'Nathan Lane', 'Peter Jason', 'Robert Patrick', 'Linda Cardellini',\n",
       "       'Adrienne King', 'Ryan Gosling', 'Emile Hirsch', 'Kevin Dunn',\n",
       "       'Bruno Kirby', 'Emma Stone', 'Jennifer Aniston', 'Jami Gertz',\n",
       "       'Howard Hesseman', 'Julia Roberts', 'Annabella Sciorra',\n",
       "       'Josh Brolin', 'Fran Drescher', 'Jesse Plemons', 'Dakota Fanning',\n",
       "       'Ron Jeremy', 'Denise Richards', 'Brad Dourif', 'Ellen Page',\n",
       "       'Julie Delpy', 'Peter Sarsgaard', 'Minnie Driver',\n",
       "       'Cathy Moriarty', 'Corey Stoll', 'Eve (rapper)',\n",
       "       'Matthew Macfadyen', 'Gregg Henry', 'Illeana Douglas', 'Liv Tyler',\n",
       "       'Rainn Wilson', 'Kim Dickens', 'Mary Stuart Masterson',\n",
       "       'Tom Waits', 'Joe Pantoliano', 'Michael Rooker', 'Sherilyn Fenn',\n",
       "       'Ellen Barkin', 'Phil Collins', 'Kyra Sedgwick', 'Alison Lohman',\n",
       "       'Michelle Monaghan', 'Paul Reiser', 'Ray Stevenson',\n",
       "       'Radha Mitchell', 'Garrett Hedlund', 'Paul Rodriguez',\n",
       "       'Shea Whigham', 'Reba McEntire', 'Levon Helm', 'Joseph Mazzello',\n",
       "       'Bonnie Root', 'Eugene Byrd', 'Camryn Manheim', 'Kristin Dattilo',\n",
       "       'R. Lee Ermey', 'Karen Young', 'Jon Bon Jovi', 'David Mazouz',\n",
       "       'Stuart Lafferty', 'Jordan Garrett', 'Matt Adler',\n",
       "       'Nathan Fillion', 'Kathryn Erbe', 'Ming-Na Wen', 'Ken Olin',\n",
       "       'Lori Singer', 'Daphne Rubin-Vega', 'Mark Nelson',\n",
       "       'Laurie Bartram', 'Betsy Palmer', 'Harry Crosby (businessman)',\n",
       "       'Andre Royo', 'Stéphanie Szostak', 'Sean Gunn', 'Sonja Bennett',\n",
       "       'Joey Slotnick', 'Finn Carter', 'Katherine LaNasa', 'Raye Birk',\n",
       "       'Christopher Murray', 'Tony Spiridakis', 'Marisa Miller',\n",
       "       'Miles Heizer', 'Margaret Easley', 'Kylie Bax', 'Jonathan Ward'],\n",
       "      dtype='<U95')"
      ]
     },
     "execution_count": 63,
     "metadata": {},
     "output_type": "execute_result"
    }
   ],
   "source": [
    "# actors with Bacon number 1 (have co-starred in a movie with Kevin Bacon)\n",
    "actors[np.flatnonzero(distances == 2)]"
   ]
  },
  {
   "cell_type": "code",
   "execution_count": 64,
   "metadata": {},
   "outputs": [],
   "source": [
    "bacon_numbers = distances // 2"
   ]
  },
  {
   "cell_type": "code",
   "execution_count": 65,
   "metadata": {
    "scrolled": true
   },
   "outputs": [
    {
     "data": {
      "text/plain": [
       "array([0], dtype=int32)"
      ]
     },
     "execution_count": 65,
     "metadata": {},
     "output_type": "execute_result"
    }
   ],
   "source": [
    "bacon_numbers[actors == 'Kevin Bacon']"
   ]
  },
  {
   "cell_type": "code",
   "execution_count": 66,
   "metadata": {},
   "outputs": [
    {
     "data": {
      "text/plain": [
       "array([1], dtype=int32)"
      ]
     },
     "execution_count": 66,
     "metadata": {},
     "output_type": "execute_result"
    }
   ],
   "source": [
    "bacon_numbers[actors == 'Julia Roberts']"
   ]
  },
  {
   "cell_type": "code",
   "execution_count": 67,
   "metadata": {},
   "outputs": [
    {
     "data": {
      "image/png": "[encoded data removed]",
      "text/plain": [
       "<Figure size 640x480 with 1 Axes>"
      ]
     },
     "metadata": {},
     "output_type": "display_data"
    }
   ],
   "source": [
    "plt.hist(bacon_numbers, bins=15);"
   ]
  },
  {
   "attachments": {},
   "cell_type": "markdown",
   "metadata": {},
   "source": [
    "Finally, we check the clustering property of real graph (my friends tend to be friends)."
   ]
  },
  {
   "attachments": {},
   "cell_type": "markdown",
   "metadata": {},
   "source": [
    "## To do\n",
    "\n",
    "\n",
    "* Compute the clustering coefficient of Openflights and WikiVitals (seen as an undirected graph).\n",
    "* Compare with that of a random graph of same size."
   ]
  },
  {
   "cell_type": "code",
   "execution_count": 68,
   "metadata": {},
   "outputs": [],
   "source": [
    "dataset = openflights"
   ]
  },
  {
   "cell_type": "code",
   "execution_count": 69,
   "metadata": {},
   "outputs": [],
   "source": [
    "adjacency = dataset.adjacency"
   ]
  },
  {
   "cell_type": "code",
   "execution_count": 70,
   "metadata": {},
   "outputs": [
    {
     "data": {
      "text/plain": [
       "0.25107219520077"
      ]
     },
     "execution_count": 70,
     "metadata": {},
     "output_type": "execute_result"
    }
   ],
   "source": [
    "get_clustering_coefficient(adjacency)"
   ]
  },
  {
   "cell_type": "code",
   "execution_count": 71,
   "metadata": {},
   "outputs": [],
   "source": [
    "n = adjacency.shape[0]\n",
    "adjacency_random = erdos_renyi(n, np.sum(adjacency.data) / n / (n-1))"
   ]
  },
  {
   "cell_type": "code",
   "execution_count": 72,
   "metadata": {},
   "outputs": [
    {
     "data": {
      "text/plain": [
       "0.006847689850890971"
      ]
     },
     "execution_count": 72,
     "metadata": {},
     "output_type": "execute_result"
    }
   ],
   "source": [
    "get_clustering_coefficient(adjacency_random)"
   ]
  }
 ],
 "metadata": {
  "anaconda-cloud": {},
  "hide_input": false,
  "kernelspec": {
   "display_name": "Python 3 (ipykernel)",
   "language": "python",
   "name": "python3"
  },
  "language_info": {
   "codemirror_mode": {
    "name": "ipython",
    "version": 3
   },
   "file_extension": ".py",
   "mimetype": "text/x-python",
   "name": "python",
   "nbconvert_exporter": "python",
   "pygments_lexer": "ipython3",
   "version": "3.11.0"
  }
 },
 "nbformat": 4,
 "nbformat_minor": 1
}
