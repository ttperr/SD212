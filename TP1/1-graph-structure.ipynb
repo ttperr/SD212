{
 "cells": [
  {
   "cell_type": "markdown",
   "metadata": {},
   "source": [
    "# SD212: Graph mining\n",
    "## Lab 1: Graph structure\n",
    "\n",
    "In this lab, you will check three structural properties of real graphs:\n",
    "* the [power-law](https://en.wikipedia.org/wiki/Power_law#Power-law_probability_distributions) of degrees,\n",
    "* the [small-world](https://en.wikipedia.org/wiki/Small-world_network) property,\n",
    "* the tendency to [cluster](https://en.wikipedia.org/wiki/Clustering_coefficient)."
   ]
  },
  {
   "cell_type": "markdown",
   "metadata": {},
   "source": [
    "## Import"
   ]
  },
  {
   "cell_type": "code",
   "execution_count": null,
   "metadata": {},
   "outputs": [],
   "source": [
    "import numpy as np\n",
    "from scipy import sparse\n",
    "import matplotlib.pyplot as plt"
   ]
  },
  {
   "cell_type": "code",
   "execution_count": null,
   "metadata": {},
   "outputs": [],
   "source": [
    "from sknetwork.data import load_netset, erdos_renyi\n",
    "from sknetwork.path import get_distances, get_diameter, get_shortest_path\n",
    "from sknetwork.utils import bipartite2undirected\n",
    "from sknetwork.topology import Triangles"
   ]
  },
  {
   "cell_type": "markdown",
   "metadata": {},
   "source": [
    "## Data"
   ]
  },
  {
   "cell_type": "markdown",
   "metadata": {},
   "source": [
    "We will work on the following graphs (see the [NetSet](https://netset.telecom-paris.fr) collection for details):\n",
    "* Openflights (graph)\n",
    "* WikiVitals (directed graph)\n",
    "* Cinema (bipartite graph)"
   ]
  },
  {
   "cell_type": "code",
   "execution_count": null,
   "metadata": {},
   "outputs": [],
   "source": [
    "openflights = load_netset('openflights')"
   ]
  },
  {
   "cell_type": "code",
   "execution_count": null,
   "metadata": {},
   "outputs": [],
   "source": [
    "type(openflights)"
   ]
  },
  {
   "cell_type": "code",
   "execution_count": null,
   "metadata": {},
   "outputs": [],
   "source": [
    "# weighted adjacency matrix\n",
    "adjacency = openflights.adjacency"
   ]
  },
  {
   "cell_type": "code",
   "execution_count": null,
   "metadata": {},
   "outputs": [],
   "source": [
    "# binary adjacency matrix\n",
    "adjacency = adjacency > 0"
   ]
  },
  {
   "cell_type": "code",
   "execution_count": null,
   "metadata": {},
   "outputs": [],
   "source": [
    "adjacency"
   ]
  },
  {
   "cell_type": "code",
   "execution_count": null,
   "metadata": {},
   "outputs": [],
   "source": [
    "wikivitals = load_netset('wikivitals')"
   ]
  },
  {
   "cell_type": "code",
   "execution_count": null,
   "metadata": {},
   "outputs": [],
   "source": [
    "cinema = load_netset('cinema')"
   ]
  },
  {
   "cell_type": "markdown",
   "metadata": {},
   "source": [
    "## 1. Power law"
   ]
  },
  {
   "cell_type": "markdown",
   "metadata": {},
   "source": [
    "We first focus on the power law degree distribution.\n",
    "\n",
    "We consider the empirical distributions of:\n",
    "* degrees in the Openflights graph,\n",
    "* in-degrees and out-degrees in the WikiVitals graph."
   ]
  },
  {
   "cell_type": "markdown",
   "metadata": {},
   "source": [
    "## To do"
   ]
  },
  {
   "cell_type": "markdown",
   "metadata": {},
   "source": [
    "For each of these distributions:\n",
    "* Plot the [tail distribution](https://en.wikipedia.org/wiki/Cumulative_distribution_function#Complementary_cumulative_distribution_function_(tail_distribution)) in log-log scale.\n",
    "* Conclude: do you consider that these are power-law graphs?"
   ]
  },
  {
   "cell_type": "code",
   "execution_count": null,
   "metadata": {},
   "outputs": [],
   "source": [
    "def plot_loglog(degrees):\n",
    "    \"\"\"Plot the degree distribution in log-log scale and compare with that of a random graph.\n",
    "    \n",
    "    Parameters\n",
    "    ----------\n",
    "    degrees : array\n",
    "        vector of degrees of the graph.\n",
    "    \"\"\"\n",
    "    n = len(degrees)\n",
    "    # comparison with a random graph\n",
    "    adjacency_random = erdos_renyi(n, np.sum(degrees) / n / (n-1))\n",
    "    degrees_random = adjacency_random.dot(np.ones(n))\n",
    "    plt.loglog(np.sort(degrees), 1 - np.arange(n) / n, lw = 3, label='Real graph')\n",
    "    plt.loglog(np.sort(degrees_random), 1 - np.arange(n) / n, lw = 3, label = 'Random graph')\n",
    "    plt.xlabel('Degree')\n",
    "    plt.ylabel('Probability')\n",
    "    plt.legend()\n",
    "    plt.show()"
   ]
  },
  {
   "cell_type": "markdown",
   "metadata": {},
   "source": [
    "## 2. Small-world"
   ]
  },
  {
   "cell_type": "markdown",
   "metadata": {},
   "source": [
    "You will now make a few experiments highlighting the small-world property."
   ]
  },
  {
   "cell_type": "markdown",
   "metadata": {},
   "source": [
    "## To do\n",
    "\n",
    "* Give a shortest path of maximum length starting from **Paris Charles de Gaulle** airport in Openflights.<br> \n",
    "List the corresponding airports.\n",
    "* Give a shortest path from [Plato](https://en.wikipedia.org/wiki/Plato) to [Platini](https://en.wikipedia.org/wiki/Michel_Platini) in WikiVitals.<br>\n",
    "List the corresponding articles."
   ]
  },
  {
   "cell_type": "markdown",
   "metadata": {},
   "source": [
    "## To do\n",
    "\n",
    "* Which fraction of the airports can be reached from **Paris Charles de Gaulle** in 1, 2, 3 flights?\n",
    "* Which fraction of the articles can be reached from **Paris** in 1, 2, 3 clicks on Wikipedia Vitals?"
   ]
  },
  {
   "cell_type": "markdown",
   "metadata": {},
   "source": [
    "## To do\n",
    "\n",
    "* Compute the [Bacon number](https://fr.wikipedia.org/wiki/Six_Degrees_of_Kevin_Bacon) of all actors (**without** building the co-starring actor graph).\n",
    "* Plot the corresponding histogram."
   ]
  },
  {
   "cell_type": "markdown",
   "metadata": {},
   "source": [
    "## 3. Clustering coefficient"
   ]
  },
  {
   "cell_type": "markdown",
   "metadata": {},
   "source": [
    "Finally, we check the clustering property of real graph (my friends tend to be friends)."
   ]
  },
  {
   "cell_type": "markdown",
   "metadata": {},
   "source": [
    "## To do\n",
    "\n",
    "\n",
    "* Compute the clustering coefficient of Openflights and WikiVitals (seen as an undirected graph).\n",
    "* Compare with that of a random graph of same size."
   ]
  }
 ],
 "metadata": {
  "anaconda-cloud": {},
  "hide_input": false,
  "kernelspec": {
   "display_name": "Python 3",
   "language": "python",
   "name": "python3"
  },
  "language_info": {
   "codemirror_mode": {
    "name": "ipython",
    "version": 3
   },
   "file_extension": ".py",
   "mimetype": "text/x-python",
   "name": "python",
   "nbconvert_exporter": "python",
   "pygments_lexer": "ipython3",
   "version": "3.8.3"
  }
 },
 "nbformat": 4,
 "nbformat_minor": 1
}
