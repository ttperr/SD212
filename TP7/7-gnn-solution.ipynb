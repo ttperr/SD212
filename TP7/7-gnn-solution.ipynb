{
 "cells": [
  {
   "cell_type": "markdown",
   "metadata": {},
   "source": [
    "# SD212: Graph mining\n",
    "\n",
    "## Lab 7: Graph neural networks"
   ]
  },
  {
   "cell_type": "markdown",
   "metadata": {},
   "source": [
    "In this lab, you will learn to classify nodes using graph neural networks.\n",
    "\n",
    "We use [DGL](https://www.dgl.ai) (deep graph library), which relies on pytorch."
   ]
  },
  {
   "cell_type": "code",
   "execution_count": null,
   "metadata": {},
   "outputs": [],
   "source": [
    "# pip install dgl"
   ]
  },
  {
   "cell_type": "markdown",
   "metadata": {
    "tags": []
   },
   "source": [
    "## Import"
   ]
  },
  {
   "cell_type": "code",
   "execution_count": null,
   "metadata": {},
   "outputs": [],
   "source": [
    "import numpy as np\n",
    "from scipy import sparse"
   ]
  },
  {
   "cell_type": "code",
   "execution_count": null,
   "metadata": {},
   "outputs": [],
   "source": [
    "from sknetwork.data import load_netset\n",
    "from sknetwork.classification import DiffusionClassifier\n",
    "from sknetwork.embedding import Spectral\n",
    "from sknetwork.utils import directed2undirected"
   ]
  },
  {
   "cell_type": "code",
   "execution_count": null,
   "metadata": {},
   "outputs": [],
   "source": [
    "import dgl\n",
    "from dgl.nn import SAGEConv\n",
    "from dgl import function as fn"
   ]
  },
  {
   "cell_type": "code",
   "execution_count": null,
   "metadata": {},
   "outputs": [],
   "source": [
    "import torch\n",
    "from torch import nn\n",
    "import torch.nn.functional as F"
   ]
  },
  {
   "cell_type": "code",
   "execution_count": null,
   "metadata": {},
   "outputs": [],
   "source": [
    "# ignore warnings from DGL\n",
    "import warnings\n",
    "warnings.filterwarnings('ignore')"
   ]
  },
  {
   "cell_type": "markdown",
   "metadata": {},
   "source": [
    "## Load data"
   ]
  },
  {
   "cell_type": "markdown",
   "metadata": {},
   "source": [
    "We will work on the following datasets (see the [NetSet](https://netset.telecom-paris.fr/) collection for details):\n",
    "* Cora (directed graph + bipartite graph)\n",
    "* WikiVitals (directed graph + bipartite graph)\n",
    "\n",
    "Both datasets are graphs with node features (given by the bipartite graph) and ground-truth labels."
   ]
  },
  {
   "cell_type": "code",
   "execution_count": null,
   "metadata": {},
   "outputs": [],
   "source": [
    "cora = load_netset('cora')\n",
    "wikivitals = load_netset('wikivitals')"
   ]
  },
  {
   "cell_type": "code",
   "execution_count": null,
   "metadata": {},
   "outputs": [],
   "source": [
    "dataset = cora\n",
    "#dataset = wikivitals"
   ]
  },
  {
   "cell_type": "code",
   "execution_count": null,
   "metadata": {},
   "outputs": [],
   "source": [
    "adjacency = dataset.adjacency\n",
    "biadjacency = dataset.biadjacency\n",
    "labels = dataset.labels"
   ]
  },
  {
   "cell_type": "code",
   "execution_count": null,
   "metadata": {},
   "outputs": [],
   "source": [
    "# we use undirected graphs\n",
    "adjacency = directed2undirected(adjacency)"
   ]
  },
  {
   "cell_type": "code",
   "execution_count": null,
   "metadata": {},
   "outputs": [],
   "source": [
    "# for Wikivitals, use spectral embedding of the bipartite graph as features\n",
    "\n",
    "if dataset.meta.name.startswith('Wikivitals'):\n",
    "    spectral = Spectral(50)\n",
    "    features = spectral.fit_transform(biadjacency)\n",
    "else:\n",
    "    features = biadjacency.toarray()"
   ]
  },
  {
   "cell_type": "code",
   "execution_count": null,
   "metadata": {},
   "outputs": [],
   "source": [
    "def split_train_test_val(n_samples, test_ratio=0.1, val_ratio=0.1, seed=None):\n",
    "    \"\"\"Split the samples into train / test / validation sets.\n",
    "    \n",
    "    Returns\n",
    "    -------\n",
    "    train: np.ndarray\n",
    "        Boolean mask\n",
    "    test: np.ndarray\n",
    "        Boolean mask\n",
    "    validation: np.ndarray\n",
    "        Boolean mask\n",
    "    \"\"\"\n",
    "    if seed:\n",
    "        np.random.seed(seed)\n",
    "\n",
    "    # test\n",
    "    index = np.random.choice(n_samples, int(np.ceil(n_samples * test_ratio)), replace=False)\n",
    "    test = np.zeros(n_samples, dtype=bool)\n",
    "    test[index] = 1\n",
    "    \n",
    "    # validation\n",
    "    index = np.random.choice(np.argwhere(~test).ravel(), int(np.ceil(n_samples * val_ratio)), replace=False)\n",
    "    val = np.zeros(n_samples, dtype=bool)\n",
    "    val[index] = 1\n",
    "    \n",
    "    # train\n",
    "    train = np.ones(n_samples, dtype=bool)\n",
    "    train[test] = 0\n",
    "    train[val] = 0\n",
    "    return train, test, val"
   ]
  },
  {
   "cell_type": "code",
   "execution_count": null,
   "metadata": {},
   "outputs": [],
   "source": [
    "train, test, val = split_train_test_val(len(labels))"
   ]
  },
  {
   "cell_type": "markdown",
   "metadata": {},
   "source": [
    "## Graph and tensors"
   ]
  },
  {
   "cell_type": "markdown",
   "metadata": {},
   "source": [
    "In DGL, the graph is represented as an object, the features and labels as tensors."
   ]
  },
  {
   "cell_type": "code",
   "execution_count": null,
   "metadata": {},
   "outputs": [],
   "source": [
    "# graph as an object\n",
    "graph = dgl.from_scipy(adjacency)"
   ]
  },
  {
   "cell_type": "code",
   "execution_count": null,
   "metadata": {},
   "outputs": [],
   "source": [
    "type(graph)"
   ]
  },
  {
   "cell_type": "code",
   "execution_count": null,
   "metadata": {},
   "outputs": [],
   "source": [
    "# features and labels as tensors\n",
    "features = torch.Tensor(features)\n",
    "labels = torch.Tensor(labels).long()"
   ]
  },
  {
   "cell_type": "code",
   "execution_count": null,
   "metadata": {},
   "outputs": [],
   "source": [
    "# masks as tensors\n",
    "train = torch.Tensor(train).bool()\n",
    "test = torch.Tensor(test).bool()\n",
    "val = torch.Tensor(val).bool()"
   ]
  },
  {
   "cell_type": "markdown",
   "metadata": {},
   "source": [
    "## Graph neural network"
   ]
  },
  {
   "cell_type": "markdown",
   "metadata": {},
   "source": [
    "We start with a simple graph neural network without hidden layer. The output layer is of type [GraphSAGE](https://docs.dgl.ai/generated/dgl.nn.pytorch.conv.SAGEConv.html)."
   ]
  },
  {
   "cell_type": "code",
   "execution_count": null,
   "metadata": {},
   "outputs": [],
   "source": [
    "class GNN(nn.Module):\n",
    "    def __init__(self, dim_input, dim_output):\n",
    "        super(GNN, self).__init__()\n",
    "        self.conv = SAGEConv(dim_input, dim_output, aggregator_type='mean')\n",
    "        \n",
    "    def forward(self, graph, features):\n",
    "        output = self.conv(graph, features)\n",
    "        return output"
   ]
  },
  {
   "cell_type": "markdown",
   "metadata": {},
   "source": [
    "## To do\n",
    "\n",
    "* Train the model on Cora and get accuracy.\n",
    "* Compare with the same model trained on an empty graph.\n",
    "* Add a hidden layer with ReLu activation function (e.g., dimension = 20) and retrain the model. \n",
    "* Compare with a classifier based on heat diffusion."
   ]
  },
  {
   "cell_type": "code",
   "execution_count": null,
   "metadata": {},
   "outputs": [],
   "source": [
    "def init_model(model, features, labels):\n",
    "    '''Init the GNN with appropriate dimensions.'''\n",
    "    dim_input = features.shape[1]\n",
    "    dim_output = len(labels.unique())\n",
    "    return model(dim_input, dim_output)   "
   ]
  },
  {
   "cell_type": "code",
   "execution_count": null,
   "metadata": {},
   "outputs": [],
   "source": [
    "def eval_model(gnn, graph, features, labels, test=test):\n",
    "    '''Evaluate the model in terms of accuracy.'''\n",
    "    gnn.eval()\n",
    "    with torch.no_grad():\n",
    "        output = gnn(graph, features)\n",
    "        labels_pred = torch.max(output, dim=1)[1]\n",
    "        score = np.mean(np.array(labels[test]) == np.array(labels_pred[test]))\n",
    "    return score"
   ]
  },
  {
   "cell_type": "code",
   "execution_count": null,
   "metadata": {},
   "outputs": [],
   "source": [
    "def train_model(gnn, graph, features, labels, train=train, val=val, n_epochs=100, lr=0.01, verbose=True):\n",
    "    '''Train the GNN.'''\n",
    "    optimizer = torch.optim.Adam(gnn.parameters(), lr=lr)\n",
    "    \n",
    "    gnn.train()\n",
    "    scores = []\n",
    "    \n",
    "    for t in range(n_epochs):   \n",
    "        \n",
    "        # forward\n",
    "        output = gnn(graph, features)\n",
    "        logp = nn.functional.log_softmax(output, 1)\n",
    "        loss = nn.functional.nll_loss(logp[train], labels[train])\n",
    "\n",
    "        # backward\n",
    "        optimizer.zero_grad()\n",
    "        loss.backward()\n",
    "        optimizer.step()\n",
    "\n",
    "        # evaluation\n",
    "        score = eval_model(gnn, graph, features, labels, val)\n",
    "        scores.append(score)\n",
    "        \n",
    "        if verbose and t % 10 == 0:\n",
    "            print(\"Epoch {:02d} | Loss {:.3f} | Accuracy {:.3f}\".format(t, loss.item(), score))"
   ]
  },
  {
   "cell_type": "code",
   "execution_count": null,
   "metadata": {},
   "outputs": [],
   "source": [
    "gnn = init_model(GNN, features, labels)"
   ]
  },
  {
   "cell_type": "code",
   "execution_count": null,
   "metadata": {},
   "outputs": [],
   "source": [
    "train_model(gnn, graph, features, labels)"
   ]
  },
  {
   "cell_type": "code",
   "execution_count": null,
   "metadata": {},
   "outputs": [],
   "source": [
    "eval_model(gnn, graph, features, labels)"
   ]
  },
  {
   "cell_type": "code",
   "execution_count": null,
   "metadata": {},
   "outputs": [],
   "source": [
    "empty_graph = dgl.from_scipy(sparse.csr_matrix(adjacency.shape))"
   ]
  },
  {
   "cell_type": "code",
   "execution_count": null,
   "metadata": {},
   "outputs": [],
   "source": [
    "gnn = init_model(GNN, features, labels)"
   ]
  },
  {
   "cell_type": "code",
   "execution_count": null,
   "metadata": {},
   "outputs": [],
   "source": [
    "train_model(gnn, graph, features, labels)"
   ]
  },
  {
   "cell_type": "code",
   "execution_count": null,
   "metadata": {},
   "outputs": [],
   "source": [
    "eval_model(gnn, empty_graph, features, labels, test)"
   ]
  },
  {
   "cell_type": "code",
   "execution_count": null,
   "metadata": {},
   "outputs": [],
   "source": [
    "class GNN(nn.Module):\n",
    "    def __init__(self, dim_input, dim_output, dim_hidden=20):\n",
    "        super(GNN, self).__init__()\n",
    "        self.conv1 = SAGEConv(dim_input, dim_hidden, 'mean')\n",
    "        self.conv2 = SAGEConv(dim_hidden, dim_output, 'mean')\n",
    "        \n",
    "    def forward(self, graph, features):\n",
    "        h = self.conv1(graph, features)\n",
    "        h = F.relu(h)\n",
    "        output = self.conv2(graph, h)\n",
    "        return output"
   ]
  },
  {
   "cell_type": "code",
   "execution_count": null,
   "metadata": {},
   "outputs": [],
   "source": [
    "gnn = init_model(GNN, features, labels)"
   ]
  },
  {
   "cell_type": "code",
   "execution_count": null,
   "metadata": {},
   "outputs": [],
   "source": [
    "train_model(gnn, graph, features, labels)"
   ]
  },
  {
   "cell_type": "code",
   "execution_count": null,
   "metadata": {},
   "outputs": [],
   "source": [
    "eval_model(gnn, graph, features, labels)"
   ]
  },
  {
   "cell_type": "code",
   "execution_count": null,
   "metadata": {},
   "outputs": [],
   "source": [
    "# comparison with heat diffusion\n",
    "y_true = dataset.labels\n",
    "y_train = y_true.copy()\n",
    "y_train[test|val] = -1"
   ]
  },
  {
   "cell_type": "code",
   "execution_count": null,
   "metadata": {},
   "outputs": [],
   "source": [
    "algo = DiffusionClassifier()"
   ]
  },
  {
   "cell_type": "code",
   "execution_count": null,
   "metadata": {},
   "outputs": [],
   "source": [
    "y_pred = algo.fit_predict(biadjacency, y_train)"
   ]
  },
  {
   "cell_type": "code",
   "execution_count": null,
   "metadata": {},
   "outputs": [],
   "source": [
    "np.mean(y_pred[test] == y_true[test])"
   ]
  },
  {
   "cell_type": "code",
   "execution_count": null,
   "metadata": {},
   "outputs": [],
   "source": [
    "y_pred = algo.fit_predict(adjacency, y_train)"
   ]
  },
  {
   "cell_type": "code",
   "execution_count": null,
   "metadata": {},
   "outputs": [],
   "source": [
    "np.mean(y_pred[test] == y_true[test])"
   ]
  },
  {
   "cell_type": "markdown",
   "metadata": {},
   "source": [
    "## Build your own GNN"
   ]
  },
  {
   "cell_type": "markdown",
   "metadata": {},
   "source": [
    "You will now build your own GNN. We start with a simple graph convolution layer. "
   ]
  },
  {
   "cell_type": "code",
   "execution_count": null,
   "metadata": {},
   "outputs": [],
   "source": [
    "class GraphConvLayer(nn.Module):\n",
    "    def __init__(self, dim_input, dim_output):\n",
    "        super(GraphConvLayer, self).__init__()\n",
    "        self.layer = nn.Linear(dim_input, dim_output)\n",
    "        \n",
    "    def forward(self, graph, signal):\n",
    "        with graph.local_scope():\n",
    "            # message passing\n",
    "            graph.ndata['node'] = signal\n",
    "            graph.update_all(fn.copy_u('node', 'message'), fn.mean('message', 'average'))\n",
    "            h = graph.ndata['average']\n",
    "            return self.layer(h)"
   ]
  },
  {
   "cell_type": "markdown",
   "metadata": {},
   "source": [
    "Observe that the message passing is based on the diffusion:\n",
    "$$U\\mapsto PU$$ where $P$ is the transition matrix of the random walk."
   ]
  },
  {
   "cell_type": "markdown",
   "metadata": {},
   "source": [
    "## To do\n",
    "\n",
    "* Build a GNN with two layers based on this graph convolution layer.\n",
    "* Train this GNN and compare the results with the previous one.\n",
    "* Add the input signal of each node, so that the message passing becomes:\n",
    "$$\n",
    "U\\mapsto (I + P)U\n",
    "$$\n",
    "* Retrain the GNN and observe the results.\n",
    "* Retrain the same GNN without message passing in the first layer."
   ]
  },
  {
   "cell_type": "code",
   "execution_count": null,
   "metadata": {},
   "outputs": [],
   "source": [
    "class GNN(nn.Module):\n",
    "    def __init__(self, n_input, n_output, n_hidden=20):\n",
    "        super(GNN, self).__init__()\n",
    "        self.conv1 = GraphConvLayer(n_input, n_hidden)\n",
    "        self.conv2 = GraphConvLayer(n_hidden, n_output)\n",
    "        \n",
    "    def forward(self, graph, features):\n",
    "        h = self.conv1(graph, features)\n",
    "        h = F.relu(h)\n",
    "        h = self.conv2(graph, h)\n",
    "        return h"
   ]
  },
  {
   "cell_type": "code",
   "execution_count": null,
   "metadata": {},
   "outputs": [],
   "source": [
    "gnn = init_model(GNN, features, labels)\n",
    "train_model(gnn, graph, features, labels, train, val, verbose=True)"
   ]
  },
  {
   "cell_type": "code",
   "execution_count": null,
   "metadata": {},
   "outputs": [],
   "source": [
    "eval_model(gnn, graph, features, labels, test)"
   ]
  },
  {
   "cell_type": "code",
   "execution_count": null,
   "metadata": {},
   "outputs": [],
   "source": [
    "class GraphConvLayer(nn.Module):\n",
    "    def __init__(self, dim_input, dim_output):\n",
    "        super(GraphConvLayer, self).__init__()\n",
    "        self.layer = nn.Linear(dim_input, dim_output)\n",
    "        \n",
    "    def forward(self, graph, signal):\n",
    "        with graph.local_scope():\n",
    "            # message passing\n",
    "            graph.ndata['node'] = signal\n",
    "            graph.update_all(fn.copy_u('node', 'message'), fn.mean('message', 'average'))\n",
    "            h = graph.ndata['average']\n",
    "            return self.layer(h + signal)"
   ]
  },
  {
   "cell_type": "code",
   "execution_count": null,
   "metadata": {},
   "outputs": [],
   "source": [
    "class GNN(nn.Module):\n",
    "    def __init__(self, n_input, n_output, n_hidden=20):\n",
    "        super(GNN, self).__init__()\n",
    "        self.conv1 = GraphConvLayer(n_input, n_hidden)\n",
    "        self.conv2 = GraphConvLayer(n_hidden, n_output)\n",
    "        \n",
    "    def forward(self, graph, features):\n",
    "        h = self.conv1(graph, features)\n",
    "        h = F.relu(h)\n",
    "        h = self.conv2(graph, h)\n",
    "        return h"
   ]
  },
  {
   "cell_type": "code",
   "execution_count": null,
   "metadata": {},
   "outputs": [],
   "source": [
    "gnn = init_model(GNN, features, labels)\n",
    "train_model(gnn, graph, features, labels, train, val, verbose=True)"
   ]
  },
  {
   "cell_type": "code",
   "execution_count": null,
   "metadata": {},
   "outputs": [],
   "source": [
    "eval_model(gnn, graph, features, labels, test)"
   ]
  },
  {
   "cell_type": "code",
   "execution_count": null,
   "metadata": {},
   "outputs": [],
   "source": [
    "class ConvLayer(nn.Module):\n",
    "    def __init__(self, dim_input, dim_output):\n",
    "        super(ConvLayer, self).__init__()\n",
    "        self.layer = nn.Linear(dim_input, dim_output)\n",
    "        \n",
    "    def forward(self, features):\n",
    "        output = self.layer(features)\n",
    "        return output"
   ]
  },
  {
   "cell_type": "code",
   "execution_count": null,
   "metadata": {},
   "outputs": [],
   "source": [
    "class GNN(nn.Module):\n",
    "    def __init__(self, n_input, n_output, n_hidden=20):\n",
    "        super(GNN, self).__init__()\n",
    "        self.conv1 = ConvLayer(n_input, n_hidden)\n",
    "        self.conv2 = GraphConvLayer(n_hidden, n_output)\n",
    "        \n",
    "    def forward(self, graph, features):\n",
    "        h = self.conv1(features)\n",
    "        h = F.relu(h)\n",
    "        h = self.conv2(graph, h)\n",
    "        return h"
   ]
  },
  {
   "cell_type": "code",
   "execution_count": null,
   "metadata": {},
   "outputs": [],
   "source": [
    "gnn = init_model(GNN, features, labels)"
   ]
  },
  {
   "cell_type": "code",
   "execution_count": null,
   "metadata": {},
   "outputs": [],
   "source": [
    "train_model(gnn, graph, features, labels, train, val, verbose=True)"
   ]
  },
  {
   "cell_type": "code",
   "execution_count": null,
   "metadata": {},
   "outputs": [],
   "source": [
    "eval_model(gnn, graph, features, labels, test)"
   ]
  },
  {
   "cell_type": "markdown",
   "metadata": {},
   "source": [
    "## Heat diffusion as a GNN"
   ]
  },
  {
   "cell_type": "markdown",
   "metadata": {},
   "source": [
    "Node classification by heat diffusion can be seen as a GNN without training, using a one-hot encoding of labels. Features are ignored."
   ]
  },
  {
   "cell_type": "markdown",
   "metadata": {},
   "source": [
    "## To do\n",
    "\n",
    "* Build a special GNN whose output corresponds to one step of heat diffusion in the graph.\n",
    "* Use this GNN to classify nodes by heat diffusion, with temperature centering."
   ]
  },
  {
   "cell_type": "code",
   "execution_count": null,
   "metadata": {},
   "outputs": [],
   "source": [
    "from sknetwork.utils import get_membership"
   ]
  },
  {
   "cell_type": "code",
   "execution_count": null,
   "metadata": {},
   "outputs": [],
   "source": [
    "labels_one_hot = get_membership(labels).toarray()\n",
    "labels_one_hot = torch.Tensor(labels_one_hot)"
   ]
  },
  {
   "cell_type": "code",
   "execution_count": null,
   "metadata": {},
   "outputs": [],
   "source": [
    "class Diffusion(nn.Module):\n",
    "    def __init__(self):\n",
    "        super(Diffusion, self).__init__()\n",
    "        \n",
    "    def forward(self, graph, features, mask):\n",
    "        '''Mask is a boolean tensor giving the training set.'''\n",
    "        with graph.local_scope():\n",
    "            h_node = features\n",
    "            # diffusion\n",
    "            graph.ndata['node'] = h_node\n",
    "            graph.update_all(fn.copy_src('node', 'message'), fn.mean('message', 'neighbor'))\n",
    "            h_neighbor = graph.ndata['neighbor']\n",
    "            # seed nodes\n",
    "            h_neighbor[mask] = h_node[mask]\n",
    "            return h_neighbor"
   ]
  },
  {
   "cell_type": "code",
   "execution_count": null,
   "metadata": {},
   "outputs": [],
   "source": [
    "diffusion = Diffusion()"
   ]
  },
  {
   "cell_type": "code",
   "execution_count": null,
   "metadata": {},
   "outputs": [],
   "source": [
    "n_iter = 20\n",
    "\n",
    "temperatures = labels_one_hot\n",
    "temperatures[~train] = 0\n",
    "for t in range(n_iter):\n",
    "    temperatures = diffusion(graph, temperatures, train)\n",
    "    \n",
    "# temperature centering\n",
    "temperatures -= temperatures.mean(axis=0)"
   ]
  },
  {
   "cell_type": "code",
   "execution_count": null,
   "metadata": {},
   "outputs": [],
   "source": [
    "labels_pred = np.argmax(temperatures.numpy(), axis=1)"
   ]
  },
  {
   "cell_type": "code",
   "execution_count": null,
   "metadata": {},
   "outputs": [],
   "source": [
    "np.mean(labels.numpy()[test] == labels_pred[test])"
   ]
  },
  {
   "cell_type": "code",
   "execution_count": null,
   "metadata": {},
   "outputs": [],
   "source": [
    "# comparison with scikit-network\n",
    "from sknetwork.classification import DiffusionClassifier"
   ]
  },
  {
   "cell_type": "code",
   "execution_count": null,
   "metadata": {},
   "outputs": [],
   "source": [
    "algo = DiffusionClassifier()"
   ]
  },
  {
   "cell_type": "code",
   "execution_count": null,
   "metadata": {},
   "outputs": [],
   "source": [
    "labels[~train] = -1\n",
    "labels = labels.numpy()\n",
    "labels_true = dataset.labels"
   ]
  },
  {
   "cell_type": "code",
   "execution_count": null,
   "metadata": {},
   "outputs": [],
   "source": [
    "labels_pred = algo.fit_predict(adjacency, labels)"
   ]
  },
  {
   "cell_type": "code",
   "execution_count": null,
   "metadata": {},
   "outputs": [],
   "source": [
    "np.mean(labels_true[test] == labels_pred[test])"
   ]
  }
 ],
 "metadata": {
  "kernelspec": {
   "display_name": "Python 3 (ipykernel)",
   "language": "python",
   "name": "python3"
  },
  "language_info": {
   "codemirror_mode": {
    "name": "ipython",
    "version": 3
   },
   "file_extension": ".py",
   "mimetype": "text/x-python",
   "name": "python",
   "nbconvert_exporter": "python",
   "pygments_lexer": "ipython3",
   "version": "3.9.13"
  }
 },
 "nbformat": 4,
 "nbformat_minor": 4
}
