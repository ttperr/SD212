{
 "cells": [
  {
   "cell_type": "markdown",
   "metadata": {},
   "source": [
    "# SD212: Graph mining\n",
    "## Lab 1: Graph structure\n",
    "\n",
    "In this lab, you will check three structural properties of real graphs:\n",
    "* the [power-law](https://en.wikipedia.org/wiki/Power_law#Power-law_probability_distributions) of degrees,\n",
    "* the [small-world](https://en.wikipedia.org/wiki/Small-world_network) property,\n",
    "* the tendency to [cluster](https://en.wikipedia.org/wiki/Clustering_coefficient)."
   ]
  },
  {
   "cell_type": "markdown",
   "metadata": {},
   "source": [
    "## Import"
   ]
  },
  {
   "cell_type": "code",
   "execution_count": 124,
   "metadata": {},
   "outputs": [],
   "source": [
    "import numpy as np\n",
    "from scipy import sparse\n",
    "import matplotlib.pyplot as plt"
   ]
  },
  {
   "cell_type": "code",
   "execution_count": 125,
   "metadata": {},
   "outputs": [],
   "source": [
    "from sknetwork.data import load_netset, erdos_renyi\n",
    "from sknetwork.path import get_distances, get_diameter, get_shortest_path\n",
    "from sknetwork.utils import bipartite2undirected, get_degrees\n",
    "from sknetwork.topology import Triangles"
   ]
  },
  {
   "cell_type": "markdown",
   "metadata": {},
   "source": [
    "## Data"
   ]
  },
  {
   "cell_type": "markdown",
   "metadata": {},
   "source": [
    "We will work on the following graphs (see the [NetSet](https://netset.telecom-paris.fr) collection for details):\n",
    "* Openflights (graph)\n",
    "* WikiVitals (directed graph)\n",
    "* Cinema (bipartite graph)"
   ]
  },
  {
   "cell_type": "code",
   "execution_count": 126,
   "metadata": {},
   "outputs": [
    {
     "name": "stdout",
     "output_type": "stream",
     "text": [
      "Parsing files...\n",
      "Done.\n"
     ]
    }
   ],
   "source": [
    "openflights = load_netset('openflights')"
   ]
  },
  {
   "cell_type": "code",
   "execution_count": 127,
   "metadata": {},
   "outputs": [
    {
     "data": {
      "text/plain": [
       "sknetwork.utils.Bunch"
      ]
     },
     "execution_count": 127,
     "metadata": {},
     "output_type": "execute_result"
    }
   ],
   "source": [
    "type(openflights)"
   ]
  },
  {
   "cell_type": "code",
   "execution_count": 128,
   "metadata": {},
   "outputs": [],
   "source": [
    "# weighted adjacency matrix\n",
    "adjacency = openflights.adjacency"
   ]
  },
  {
   "cell_type": "code",
   "execution_count": 129,
   "metadata": {},
   "outputs": [],
   "source": [
    "# binary adjacency matrix\n",
    "adjacency = adjacency > 0"
   ]
  },
  {
   "cell_type": "code",
   "execution_count": 130,
   "metadata": {},
   "outputs": [
    {
     "data": {
      "text/plain": [
       "<3097x3097 sparse matrix of type '<class 'numpy.bool_'>'\n",
       "\twith 36386 stored elements in Compressed Sparse Row format>"
      ]
     },
     "execution_count": 130,
     "metadata": {},
     "output_type": "execute_result"
    }
   ],
   "source": [
    "adjacency"
   ]
  },
  {
   "cell_type": "code",
   "execution_count": 131,
   "metadata": {},
   "outputs": [
    {
     "name": "stdout",
     "output_type": "stream",
     "text": [
      "Parsing files...\n",
      "Done.\n"
     ]
    }
   ],
   "source": [
    "wikivitals = load_netset('wikivitals')"
   ]
  },
  {
   "cell_type": "code",
   "execution_count": 132,
   "metadata": {},
   "outputs": [
    {
     "name": "stdout",
     "output_type": "stream",
     "text": [
      "Parsing files...\n",
      "Done.\n"
     ]
    }
   ],
   "source": [
    "cinema = load_netset('cinema')"
   ]
  },
  {
   "cell_type": "code",
   "execution_count": 133,
   "metadata": {},
   "outputs": [
    {
     "data": {
      "text/plain": [
       "{'meta': {'name': 'cinema',\n",
       "  'source': 'https://yago-knowledge.org',\n",
       "  'description': 'Graph between movies and actors.'},\n",
       " 'biadjacency': <88440x44586 sparse matrix of type '<class 'numpy.bool_'>'\n",
       " \twith 304006 stored elements in Compressed Sparse Row format>,\n",
       " 'names_col': array(['Joe E. Brown', 'Eric Blore', 'Susan Hayward', ...,\n",
       "        'Olivier Saladin', 'Reona Hirota', 'Leyla Sayar'], dtype='<U95'),\n",
       " 'names_row': array(['$1,000 a Touchdown', '$9.99', '$', ...,\n",
       "        'Šta se zgodi kad se ljubav rodi', 'Želary', '’O Re'], dtype='<U95')}"
      ]
     },
     "execution_count": 133,
     "metadata": {},
     "output_type": "execute_result"
    }
   ],
   "source": [
    "cinema"
   ]
  },
  {
   "cell_type": "markdown",
   "metadata": {},
   "source": [
    "## 1. Power law"
   ]
  },
  {
   "cell_type": "markdown",
   "metadata": {},
   "source": [
    "We first focus on the power law degree distribution.\n",
    "\n",
    "We consider the empirical distributions of:\n",
    "* degrees in the Openflights graph,\n",
    "* in-degrees and out-degrees in the WikiVitals graph."
   ]
  },
  {
   "cell_type": "markdown",
   "metadata": {},
   "source": [
    "## To do"
   ]
  },
  {
   "cell_type": "markdown",
   "metadata": {},
   "source": [
    "For each of these distributions:\n",
    "* Plot the [tail distribution](https://en.wikipedia.org/wiki/Cumulative_distribution_function#Complementary_cumulative_distribution_function_(tail_distribution)) in log-log scale.\n",
    "* Conclude: do you consider that these are power-law graphs?"
   ]
  },
  {
   "cell_type": "code",
   "execution_count": 134,
   "metadata": {},
   "outputs": [],
   "source": [
    "def plot_loglog(degrees):\n",
    "    \"\"\"Plot the degree distribution in log-log scale and compare with that of a random graph.\n",
    "    \n",
    "    Parameters\n",
    "    ----------\n",
    "    degrees : array\n",
    "        vector of degrees of the graph.\n",
    "    \"\"\"\n",
    "    n = len(degrees)\n",
    "    # comparison with a random graph\n",
    "    adjacency_random = erdos_renyi(n, np.sum(degrees) / n / (n-1))\n",
    "    degrees_random = adjacency_random.dot(np.ones(n))\n",
    "    plt.loglog(np.sort(degrees), 1 - np.arange(n) / n, lw = 3, label='Real graph')\n",
    "    plt.loglog(np.sort(degrees_random), 1 - np.arange(n) / n, lw = 3, label = 'Random graph')\n",
    "    plt.xlabel('Degree')\n",
    "    plt.ylabel('Probability')\n",
    "    plt.legend()\n",
    "    plt.show()"
   ]
  },
  {
   "cell_type": "code",
   "execution_count": 135,
   "metadata": {},
   "outputs": [
    {
     "data": {
      "image/png": "[encoded data removed]",
      "text/plain": [
       "<Figure size 640x480 with 1 Axes>"
      ]
     },
     "metadata": {},
     "output_type": "display_data"
    },
    {
     "data": {
      "image/png": "[encoded data removed]",
      "text/plain": [
       "<Figure size 640x480 with 1 Axes>"
      ]
     },
     "metadata": {},
     "output_type": "display_data"
    }
   ],
   "source": [
    "degrees = adjacency.dot(np.ones(adjacency.shape[0]))\n",
    "plot_loglog(degrees)\n",
    "\n",
    "degrees = get_degrees(wikivitals.adjacency)\n",
    "plot_loglog(degrees)\n"
   ]
  },
  {
   "cell_type": "markdown",
   "metadata": {},
   "source": [
    "## 2. Small-world"
   ]
  },
  {
   "cell_type": "markdown",
   "metadata": {},
   "source": [
    "You will now make a few experiments highlighting the small-world property."
   ]
  },
  {
   "cell_type": "markdown",
   "metadata": {},
   "source": [
    "## To do\n",
    "\n",
    "* Give a shortest path of maximum length starting from **Paris Charles de Gaulle** airport in Openflights.<br> \n",
    "List the corresponding airports.\n",
    "* Give a shortest path from [Plato](https://en.wikipedia.org/wiki/Plato) to [Platini](https://en.wikipedia.org/wiki/Michel_Platini) in WikiVitals.<br>\n",
    "List the corresponding articles."
   ]
  },
  {
   "cell_type": "code",
   "execution_count": 171,
   "metadata": {},
   "outputs": [
    {
     "name": "stdout",
     "output_type": "stream",
     "text": [
      "CDG index: 622\n",
      "Farthest airport from CDG: Peawanuck Airport\n",
      "Number of airports: 7.0\n",
      "Indexes of airports: [622, 124, 85, 56, 2253, 2290, 2248, 2277]\n",
      "Listing the airport\n",
      "0 Charles de Gaulle International Airport\n",
      "1 Lester B. Pearson International Airport\n",
      "2 Timmins/Victor M. Power\n",
      "3 Moosonee Airport\n",
      "4 Fort Albany Airport\n",
      "5 Kashechewan Airport\n",
      "6 Attawapiskat Airport\n",
      "7 Peawanuck Airport\n"
     ]
    }
   ],
   "source": [
    "names = openflights.names\n",
    "\n",
    "cdg = np.where(names == \"Charles de Gaulle International Airport\")[0][0]\n",
    "print(\"CDG index:\", cdg)\n",
    "\n",
    "# Give a shortest path of maximum length starting from **Paris Charles de Gaulle** airport in Openflights.<br> \n",
    "# List the corresponding airports.\n",
    "\n",
    "pathsFromCdg = get_shortest_path(adjacency, cdg, np.where(names != \"Charles de Gaulle International Airport\")[0])\n",
    "\n",
    "distances = get_distances(adjacency, sources=cdg)\n",
    "farthestAirport = np.where(distances == np.max(distances))\n",
    "print(\"Farthest airport from CDG:\", names[farthestAirport[0][0]])\n",
    "\n",
    "print(\"Number of airports:\", distances[farthestAirport[0][0]])\n",
    "\n",
    "maxPath = get_shortest_path(adjacency, cdg, farthestAirport[0][0])\n",
    "print(\"Indexes of airports:\", maxPath)\n",
    "print(\"Listing the airport\")\n",
    "for i in range(len(maxPath)):\n",
    "    print(i, names[maxPath[i]])\n"
   ]
  },
  {
   "cell_type": "code",
   "execution_count": 172,
   "metadata": {},
   "outputs": [
    {
     "name": "stdout",
     "output_type": "stream",
     "text": [
      "Plato index: 7108\n",
      "Platini index: 5893\n",
      "Number of pages: 4\n",
      "Indexes of pages: [7108, 6247, 2390, 5893]\n",
      "Listing the pages\n",
      "0 Plato\n",
      "1 Naples\n",
      "2 Diego Maradona\n",
      "3 Michel Platini\n"
     ]
    }
   ],
   "source": [
    "names = wikivitals.names\n",
    "\n",
    "plato = np.where(names == \"Plato\")[0][0]\n",
    "platini = np.where(names == \"Michel Platini\")[0][0]\n",
    "print(\"Plato index:\", plato)\n",
    "print(\"Platini index:\", platini)\n",
    "minLength = np.inf\n",
    "\n",
    "pathPlatoToPlatini = get_shortest_path(wikivitals.adjacency, plato, platini)\n",
    "\n",
    "print(\"Number of pages:\", len(pathPlatoToPlatini))\n",
    "print(\"Indexes of pages:\", pathPlatoToPlatini)\n",
    "print(\"Listing the pages\")\n",
    "for i in range(len(pathPlatoToPlatini)):\n",
    "    print(i, names[pathPlatoToPlatini[i]])"
   ]
  },
  {
   "cell_type": "markdown",
   "metadata": {},
   "source": [
    "## To do\n",
    "\n",
    "* Which fraction of the airports can be reached from **Paris Charles de Gaulle** in 1, 2, 3 flights?\n",
    "* Which fraction of the articles can be reached from **Paris** in 1, 2, 3 clicks on Wikipedia Vitals?"
   ]
  },
  {
   "cell_type": "code",
   "execution_count": 177,
   "metadata": {},
   "outputs": [
    {
     "name": "stdout",
     "output_type": "stream",
     "text": [
      "Number of airports: 3097\n",
      "In 1 flight: 7.523409751372296 %\n",
      "In 2 flights: 54.34291249596384 %\n",
      "In 3 flights: 28.995802389409107 %\n",
      "Number of pages: 10011\n",
      "In 1 click: 3.945659774248327 %\n",
      "In 2 clicks: 63.46019378683448 %\n",
      "In 3 clicks: 31.914893617021278 %\n"
     ]
    }
   ],
   "source": [
    "# Which fraction of the airports can be reached from **Paris Charles de Gaulle** in 1, 2, 3 flights?\n",
    "n = len(openflights.names)\n",
    "print(\"Number of airports:\", n)\n",
    "distances = get_distances(adjacency, sources=cdg)\n",
    "\n",
    "print(\"In 1 flight:\", 100*(len(np.where(distances == 1)[0]))/n, \"%\")\n",
    "print(\"In 2 flights:\", 100*(len(np.where(distances == 2)[0]))/n, \"%\")\n",
    "print(\"In 3 flights:\", 100*(len(np.where(distances == 3)[0]))/n, \"%\")\n",
    "\n",
    "# Which fraction of the articles can be reached from **Paris** in 1, 2, 3 clicks on Wikipedia Vitals?\n",
    "\n",
    "distances = get_distances(wikivitals.adjacency, sources=np.where(names == \"Paris\")[0][0])\n",
    "n = len(wikivitals.names)\n",
    "print(\"Number of pages:\", n)\n",
    "\n",
    "print(\"In 1 click:\", 100*(len(np.where(distances == 1)[0]))/n, \"%\")\n",
    "print(\"In 2 clicks:\", 100*(len(np.where(distances == 2)[0]))/n, \"%\")\n",
    "print(\"In 3 clicks:\", 100*(len(np.where(distances == 3)[0]))/n, \"%\")"
   ]
  },
  {
   "cell_type": "markdown",
   "metadata": {},
   "source": [
    "## To do\n",
    "\n",
    "* Compute the [Bacon number](https://fr.wikipedia.org/wiki/Six_Degrees_of_Kevin_Bacon) of all actors (**without** building the co-starring actor graph).\n",
    "* Plot the corresponding histogram."
   ]
  },
  {
   "cell_type": "code",
   "execution_count": 183,
   "metadata": {},
   "outputs": [
    {
     "name": "stdout",
     "output_type": "stream",
     "text": [
      "Bacon index: 3465\n",
      "Number of actors: 133026\n"
     ]
    },
    {
     "data": {
      "image/png": "[encoded data removed]",
      "text/plain": [
       "<Figure size 640x480 with 1 Axes>"
      ]
     },
     "metadata": {},
     "output_type": "display_data"
    }
   ],
   "source": [
    "# Compute the bacon number of all actors (**without** building the co-starring actor graph).\n",
    "\n",
    "adjacencyCinema = bipartite2undirected(cinema.biadjacency)\n",
    "namesCinema = cinema.names_col\n",
    "\n",
    "bacon = np.where(namesCinema == \"Kevin Bacon\")[0][0]\n",
    "print(\"Bacon index:\", bacon)\n",
    "baconNumber = get_distances(adjacencyCinema, bacon)\n",
    "\n",
    "print(\"Number of actors:\", len(baconNumber))\n",
    "\n",
    "# Plot the corresponding histogram.\n",
    "\n",
    "plt.hist(baconNumber, bins=10)\n",
    "plt.xlabel(\"Bacon number\")\n",
    "plt.ylabel(\"Number of actors\")\n",
    "plt.show()"
   ]
  },
  {
   "cell_type": "markdown",
   "metadata": {},
   "source": [
    "## 3. Clustering coefficient"
   ]
  },
  {
   "cell_type": "markdown",
   "metadata": {},
   "source": [
    "Finally, we check the clustering property of real graph (my friends tend to be friends)."
   ]
  },
  {
   "cell_type": "markdown",
   "metadata": {},
   "source": [
    "## To do\n",
    "\n",
    "\n",
    "* Compute the clustering coefficient of Openflights and WikiVitals (seen as an undirected graph).\n",
    "* Compare with that of a random graph of same size."
   ]
  },
  {
   "cell_type": "code",
   "execution_count": 159,
   "metadata": {},
   "outputs": [
    {
     "name": "stdout",
     "output_type": "stream",
     "text": [
      "Openflights clustering coefficient: 0.25107219520077\n",
      "WikiVitals clustering coefficient: 0.21128544972101573\n",
      "Random graph clustering coefficient: 0.08608473933687065\n"
     ]
    }
   ],
   "source": [
    "# Compute the clustering coefficient of Openflights and WikiVitals (seen as an undirected graph).\n",
    "\n",
    "triangles = Triangles()\n",
    "triangles.fit(openflights.adjacency)\n",
    "print(\"Openflights clustering coefficient:\", triangles.clustering_coef_)\n",
    "\n",
    "triangles = Triangles()\n",
    "triangles.fit(wikivitals.adjacency)\n",
    "print(\"WikiVitals clustering coefficient:\", triangles.clustering_coef_)\n",
    "\n",
    "# Compare with that of a random graph of same size.\n",
    "n = len(openflights.names)\n",
    "adjacency_random = erdos_renyi(n, np.sum(degrees) / n / (n-1))\n",
    "triangles = Triangles()\n",
    "triangles.fit(adjacency_random)\n",
    "print(\"Random graph clustering coefficient:\", triangles.clustering_coef_)"
   ]
  }
 ],
 "metadata": {
  "anaconda-cloud": {},
  "hide_input": false,
  "kernelspec": {
   "display_name": "Python 3",
   "language": "python",
   "name": "python3"
  },
  "language_info": {
   "codemirror_mode": {
    "name": "ipython",
    "version": 3
   },
   "file_extension": ".py",
   "mimetype": "text/x-python",
   "name": "python",
   "nbconvert_exporter": "python",
   "pygments_lexer": "ipython3",
   "version": "3.10.6"
  }
 },
 "nbformat": 4,
 "nbformat_minor": 1
}
